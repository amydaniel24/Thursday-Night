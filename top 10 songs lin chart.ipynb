{
 "cells": [
  {
   "cell_type": "code",
   "execution_count": 17,
   "id": "e66e73d3",
   "metadata": {},
   "outputs": [
    {
     "name": "stdout",
     "output_type": "stream",
     "text": [
      "                   track_name          artist  \\\n",
      "0    All The Stars (with SZA)  Kendrick Lamar   \n",
      "1                     Starboy      The Weeknd   \n",
      "2                    Señorita    Shawn Mendes   \n",
      "3                  Heat Waves   Glass Animals   \n",
      "4             Let Me Love You        DJ Snake   \n",
      "..                        ...             ...   \n",
      "995                      Lily           ISAEV   \n",
      "996                 Apologize       Besomorph   \n",
      "997                  I’m Good    Yohan Gerber   \n",
      "998                      Down       Arc North   \n",
      "999                Chandelier        Besomage   \n",
      "\n",
      "                                                 album release_date  \\\n",
      "0    Black Panther The Album Music From And Inspire...   2018-02-09   \n",
      "1                                              Starboy   2016-11-25   \n",
      "2                                             Señorita   2019-06-21   \n",
      "3                                            Dreamland   2020-08-07   \n",
      "4                                               Encore   2016-08-05   \n",
      "..                                                 ...          ...   \n",
      "995                                               Lily   2023-02-24   \n",
      "996                                          Apologize   2020-05-08   \n",
      "997                                           I’m Good   2023-05-19   \n",
      "998                                               Down   2020-07-02   \n",
      "999                                         Chandelier   2023-01-04   \n",
      "\n",
      "     popularity                                        spotify_url  \\\n",
      "0            95  https://open.spotify.com/track/3GCdLUSnKSMJhs4...   \n",
      "1            90  https://open.spotify.com/track/7MXVkk9YMctZqd1...   \n",
      "2            80  https://open.spotify.com/track/0TK2YIli7K1leLo...   \n",
      "3            87  https://open.spotify.com/track/3USxtqRwSYz57Ew...   \n",
      "4            87  https://open.spotify.com/track/0lYBSQXN6rCTvUZ...   \n",
      "..          ...                                                ...   \n",
      "995           0  https://open.spotify.com/track/4tVhDkvh6N4lrTy...   \n",
      "996           5  https://open.spotify.com/track/0Uo43DNldd7aNxi...   \n",
      "997           0  https://open.spotify.com/track/2aZL4EjY5aPKWTO...   \n",
      "998           1  https://open.spotify.com/track/6nQZG4G0vIrQWaC...   \n",
      "999           0  https://open.spotify.com/track/1Ea8I3MoGx36FfA...   \n",
      "\n",
      "                         id  duration_min  \n",
      "0    3GCdLUSnKSMJhs4Tj6CV3s      3.869767  \n",
      "1    7MXVkk9YMctZqd1Srtv4MB      3.840883  \n",
      "2    0TK2YIli7K1leLovkQiNik      3.182667  \n",
      "3    3USxtqRwSYz57Ewm6wWRMp      3.980083  \n",
      "4    0lYBSQXN6rCTvUZvg9S0lU      3.432433  \n",
      "..                      ...           ...  \n",
      "995  4tVhDkvh6N4lrTyNeZHYuz      2.572100  \n",
      "996  0Uo43DNldd7aNxizhKgowg      2.443350  \n",
      "997  2aZL4EjY5aPKWTO7RKuWiy      2.376000  \n",
      "998  6nQZG4G0vIrQWaCGbqHCQn      2.391667  \n",
      "999  1Ea8I3MoGx36FfAmrjzo1r      2.295650  \n",
      "\n",
      "[1000 rows x 8 columns]\n"
     ]
    },
    {
     "data": {
      "application/vnd.microsoft.datawrangler.viewer.v0+json": {
       "columns": [
        {
         "name": "index",
         "rawType": "int64",
         "type": "integer"
        },
        {
         "name": "track_name",
         "rawType": "object",
         "type": "string"
        },
        {
         "name": "artist",
         "rawType": "object",
         "type": "string"
        },
        {
         "name": "album",
         "rawType": "object",
         "type": "string"
        },
        {
         "name": "release_date",
         "rawType": "object",
         "type": "string"
        },
        {
         "name": "popularity",
         "rawType": "int64",
         "type": "integer"
        },
        {
         "name": "spotify_url",
         "rawType": "object",
         "type": "string"
        },
        {
         "name": "id",
         "rawType": "object",
         "type": "string"
        },
        {
         "name": "duration_min",
         "rawType": "float64",
         "type": "float"
        }
       ],
       "conversionMethod": "pd.DataFrame",
       "ref": "5e8ce203-c218-4fec-87f1-c6f0518a4853",
       "rows": [
        [
         "0",
         "All The Stars (with SZA)",
         "Kendrick Lamar",
         "Black Panther The Album Music From And Inspired By",
         "2018-02-09",
         "95",
         "https://open.spotify.com/track/3GCdLUSnKSMJhs4Tj6CV3s",
         "3GCdLUSnKSMJhs4Tj6CV3s",
         "3.8697666666666666"
        ],
        [
         "1",
         "Starboy",
         "The Weeknd",
         "Starboy",
         "2016-11-25",
         "90",
         "https://open.spotify.com/track/7MXVkk9YMctZqd1Srtv4MB",
         "7MXVkk9YMctZqd1Srtv4MB",
         "3.840883333333333"
        ],
        [
         "2",
         "Señorita",
         "Shawn Mendes",
         "Señorita",
         "2019-06-21",
         "80",
         "https://open.spotify.com/track/0TK2YIli7K1leLovkQiNik",
         "0TK2YIli7K1leLovkQiNik",
         "3.1826666666666665"
        ],
        [
         "3",
         "Heat Waves",
         "Glass Animals",
         "Dreamland",
         "2020-08-07",
         "87",
         "https://open.spotify.com/track/3USxtqRwSYz57Ewm6wWRMp",
         "3USxtqRwSYz57Ewm6wWRMp",
         "3.980083333333333"
        ],
        [
         "4",
         "Let Me Love You",
         "DJ Snake",
         "Encore",
         "2016-08-05",
         "87",
         "https://open.spotify.com/track/0lYBSQXN6rCTvUZvg9S0lU",
         "0lYBSQXN6rCTvUZvg9S0lU",
         "3.432433333333333"
        ]
       ],
       "shape": {
        "columns": 8,
        "rows": 5
       }
      },
      "text/html": [
       "<div>\n",
       "<style scoped>\n",
       "    .dataframe tbody tr th:only-of-type {\n",
       "        vertical-align: middle;\n",
       "    }\n",
       "\n",
       "    .dataframe tbody tr th {\n",
       "        vertical-align: top;\n",
       "    }\n",
       "\n",
       "    .dataframe thead th {\n",
       "        text-align: right;\n",
       "    }\n",
       "</style>\n",
       "<table border=\"1\" class=\"dataframe\">\n",
       "  <thead>\n",
       "    <tr style=\"text-align: right;\">\n",
       "      <th></th>\n",
       "      <th>track_name</th>\n",
       "      <th>artist</th>\n",
       "      <th>album</th>\n",
       "      <th>release_date</th>\n",
       "      <th>popularity</th>\n",
       "      <th>spotify_url</th>\n",
       "      <th>id</th>\n",
       "      <th>duration_min</th>\n",
       "    </tr>\n",
       "  </thead>\n",
       "  <tbody>\n",
       "    <tr>\n",
       "      <th>0</th>\n",
       "      <td>All The Stars (with SZA)</td>\n",
       "      <td>Kendrick Lamar</td>\n",
       "      <td>Black Panther The Album Music From And Inspire...</td>\n",
       "      <td>2018-02-09</td>\n",
       "      <td>95</td>\n",
       "      <td>https://open.spotify.com/track/3GCdLUSnKSMJhs4...</td>\n",
       "      <td>3GCdLUSnKSMJhs4Tj6CV3s</td>\n",
       "      <td>3.869767</td>\n",
       "    </tr>\n",
       "    <tr>\n",
       "      <th>1</th>\n",
       "      <td>Starboy</td>\n",
       "      <td>The Weeknd</td>\n",
       "      <td>Starboy</td>\n",
       "      <td>2016-11-25</td>\n",
       "      <td>90</td>\n",
       "      <td>https://open.spotify.com/track/7MXVkk9YMctZqd1...</td>\n",
       "      <td>7MXVkk9YMctZqd1Srtv4MB</td>\n",
       "      <td>3.840883</td>\n",
       "    </tr>\n",
       "    <tr>\n",
       "      <th>2</th>\n",
       "      <td>Señorita</td>\n",
       "      <td>Shawn Mendes</td>\n",
       "      <td>Señorita</td>\n",
       "      <td>2019-06-21</td>\n",
       "      <td>80</td>\n",
       "      <td>https://open.spotify.com/track/0TK2YIli7K1leLo...</td>\n",
       "      <td>0TK2YIli7K1leLovkQiNik</td>\n",
       "      <td>3.182667</td>\n",
       "    </tr>\n",
       "    <tr>\n",
       "      <th>3</th>\n",
       "      <td>Heat Waves</td>\n",
       "      <td>Glass Animals</td>\n",
       "      <td>Dreamland</td>\n",
       "      <td>2020-08-07</td>\n",
       "      <td>87</td>\n",
       "      <td>https://open.spotify.com/track/3USxtqRwSYz57Ew...</td>\n",
       "      <td>3USxtqRwSYz57Ewm6wWRMp</td>\n",
       "      <td>3.980083</td>\n",
       "    </tr>\n",
       "    <tr>\n",
       "      <th>4</th>\n",
       "      <td>Let Me Love You</td>\n",
       "      <td>DJ Snake</td>\n",
       "      <td>Encore</td>\n",
       "      <td>2016-08-05</td>\n",
       "      <td>87</td>\n",
       "      <td>https://open.spotify.com/track/0lYBSQXN6rCTvUZ...</td>\n",
       "      <td>0lYBSQXN6rCTvUZvg9S0lU</td>\n",
       "      <td>3.432433</td>\n",
       "    </tr>\n",
       "  </tbody>\n",
       "</table>\n",
       "</div>"
      ],
      "text/plain": [
       "                 track_name          artist  \\\n",
       "0  All The Stars (with SZA)  Kendrick Lamar   \n",
       "1                   Starboy      The Weeknd   \n",
       "2                  Señorita    Shawn Mendes   \n",
       "3                Heat Waves   Glass Animals   \n",
       "4           Let Me Love You        DJ Snake   \n",
       "\n",
       "                                               album release_date  popularity  \\\n",
       "0  Black Panther The Album Music From And Inspire...   2018-02-09          95   \n",
       "1                                            Starboy   2016-11-25          90   \n",
       "2                                           Señorita   2019-06-21          80   \n",
       "3                                          Dreamland   2020-08-07          87   \n",
       "4                                             Encore   2016-08-05          87   \n",
       "\n",
       "                                         spotify_url                      id  \\\n",
       "0  https://open.spotify.com/track/3GCdLUSnKSMJhs4...  3GCdLUSnKSMJhs4Tj6CV3s   \n",
       "1  https://open.spotify.com/track/7MXVkk9YMctZqd1...  7MXVkk9YMctZqd1Srtv4MB   \n",
       "2  https://open.spotify.com/track/0TK2YIli7K1leLo...  0TK2YIli7K1leLovkQiNik   \n",
       "3  https://open.spotify.com/track/3USxtqRwSYz57Ew...  3USxtqRwSYz57Ewm6wWRMp   \n",
       "4  https://open.spotify.com/track/0lYBSQXN6rCTvUZ...  0lYBSQXN6rCTvUZvg9S0lU   \n",
       "\n",
       "   duration_min  \n",
       "0      3.869767  \n",
       "1      3.840883  \n",
       "2      3.182667  \n",
       "3      3.980083  \n",
       "4      3.432433  "
      ]
     },
     "execution_count": 17,
     "metadata": {},
     "output_type": "execute_result"
    }
   ],
   "source": [
    "import pandas as pd\n",
    "import seaborn as sns\n",
    "import matplotlib.pyplot as plt\n",
    "import matplotlib.dates as mdates\n",
    "df = pd.read_csv(r'C:\\Users\\opiej\\ThursdayNightProjects\\my_data_project\\data\\spotify_top_1000_tracks.csv') \n",
    "print(df)\n",
    "df.head()"
   ]
  },
  {
   "cell_type": "code",
   "execution_count": 19,
   "id": "37ac1468",
   "metadata": {},
   "outputs": [
    {
     "data": {
      "image/png": "[encoded data removed]",
      "text/plain": [
       "<Figure size 800x600 with 1 Axes>"
      ]
     },
     "metadata": {},
     "output_type": "display_data"
    }
   ],
   "source": [
    "\n",
    "df_head = df.head(10)\n",
    "sns.set(style=\"whitegrid\")\n",
    "plt.figure(figsize=(8, 6))\n",
    "sns.lineplot(x='release_date', y='track_name',  data=df_head, marker='o')\n",
    "plt.xticks(fontsize=6)\n",
    "plt.title('Popular Songs by Year of Release')\n",
    "plt.xlabel('Year')\n",
    "plt.ylabel('Song')\n",
    "plt.show()\n"
   ]
  },
  {
   "cell_type": "code",
   "execution_count": null,
   "id": "d4ff5740",
   "metadata": {},
   "outputs": [],
   "source": []
  }
 ],
 "metadata": {
  "kernelspec": {
   "display_name": "Python 3",
   "language": "python",
   "name": "python3"
  },
  "language_info": {
   "codemirror_mode": {
    "name": "ipython",
    "version": 3
   },
   "file_extension": ".py",
   "mimetype": "text/x-python",
   "name": "python",
   "nbconvert_exporter": "python",
   "pygments_lexer": "ipython3",
   "version": "3.13.1"
  }
 },
 "nbformat": 4,
 "nbformat_minor": 5
}
