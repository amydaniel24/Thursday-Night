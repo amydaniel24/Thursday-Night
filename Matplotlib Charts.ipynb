{
 "cells": [
  {
   "cell_type": "code",
   "execution_count": 2,
   "id": "72b713dc",
   "metadata": {},
   "outputs": [],
   "source": [
    "import kaggle"
   ]
  },
  {
   "cell_type": "code",
   "execution_count": 3,
   "id": "59b1dd55",
   "metadata": {},
   "outputs": [
    {
     "name": "stdout",
     "output_type": "stream",
     "text": [
      "            Date        Product Name     Category  Units Sold  Price  Revenue  \\\n",
      "0     2020-01-06        Whey Protein      Protein         143  31.98  4573.14   \n",
      "1     2020-01-06           Vitamin C      Vitamin         139  42.51  5908.89   \n",
      "2     2020-01-06            Fish Oil        Omega         161  12.91  2078.51   \n",
      "3     2020-01-06        Multivitamin      Vitamin         140  16.07  2249.80   \n",
      "4     2020-01-06         Pre-Workout  Performance         157  35.47  5568.79   \n",
      "...          ...                 ...          ...         ...    ...      ...   \n",
      "4379  2025-03-31           Melatonin    Sleep Aid         160  47.79  7646.40   \n",
      "4380  2025-03-31              Biotin      Vitamin         154  38.12  5870.48   \n",
      "4381  2025-03-31   Green Tea Extract   Fat Burner         139  20.40  2835.60   \n",
      "4382  2025-03-31     Iron Supplement      Mineral         154  18.31  2819.74   \n",
      "4383  2025-03-31  Electrolyte Powder    Hydration         178  39.12  6963.36   \n",
      "\n",
      "      Discount  Units Returned Location Platform  \n",
      "0         0.03               2   Canada  Walmart  \n",
      "1         0.04               0       UK   Amazon  \n",
      "2         0.25               0   Canada   Amazon  \n",
      "3         0.08               0   Canada  Walmart  \n",
      "4         0.25               3   Canada    iHerb  \n",
      "...        ...             ...      ...      ...  \n",
      "4379      0.21               1      USA    iHerb  \n",
      "4380      0.22               1       UK  Walmart  \n",
      "4381      0.12               3      USA    iHerb  \n",
      "4382      0.23               2   Canada   Amazon  \n",
      "4383      0.23               0       UK    iHerb  \n",
      "\n",
      "[4384 rows x 10 columns]\n"
     ]
    },
    {
     "data": {
      "application/vnd.microsoft.datawrangler.viewer.v0+json": {
       "columns": [
        {
         "name": "index",
         "rawType": "int64",
         "type": "integer"
        },
        {
         "name": "Date",
         "rawType": "object",
         "type": "string"
        },
        {
         "name": "Product Name",
         "rawType": "object",
         "type": "string"
        },
        {
         "name": "Category",
         "rawType": "object",
         "type": "string"
        },
        {
         "name": "Units Sold",
         "rawType": "int64",
         "type": "integer"
        },
        {
         "name": "Price",
         "rawType": "float64",
         "type": "float"
        },
        {
         "name": "Revenue",
         "rawType": "float64",
         "type": "float"
        },
        {
         "name": "Discount",
         "rawType": "float64",
         "type": "float"
        },
        {
         "name": "Units Returned",
         "rawType": "int64",
         "type": "integer"
        },
        {
         "name": "Location",
         "rawType": "object",
         "type": "string"
        },
        {
         "name": "Platform",
         "rawType": "object",
         "type": "string"
        }
       ],
       "conversionMethod": "pd.DataFrame",
       "ref": "f8d1d859-55d8-4a9d-88c4-f7aaa8afaf58",
       "rows": [
        [
         "0",
         "2020-01-06",
         "Whey Protein",
         "Protein",
         "143",
         "31.98",
         "4573.14",
         "0.03",
         "2",
         "Canada",
         "Walmart"
        ],
        [
         "1",
         "2020-01-06",
         "Vitamin C",
         "Vitamin",
         "139",
         "42.51",
         "5908.89",
         "0.04",
         "0",
         "UK",
         "Amazon"
        ],
        [
         "2",
         "2020-01-06",
         "Fish Oil",
         "Omega",
         "161",
         "12.91",
         "2078.51",
         "0.25",
         "0",
         "Canada",
         "Amazon"
        ],
        [
         "3",
         "2020-01-06",
         "Multivitamin",
         "Vitamin",
         "140",
         "16.07",
         "2249.8",
         "0.08",
         "0",
         "Canada",
         "Walmart"
        ],
        [
         "4",
         "2020-01-06",
         "Pre-Workout",
         "Performance",
         "157",
         "35.47",
         "5568.79",
         "0.25",
         "3",
         "Canada",
         "iHerb"
        ]
       ],
       "shape": {
        "columns": 10,
        "rows": 5
       }
      },
      "text/html": [
       "<div>\n",
       "<style scoped>\n",
       "    .dataframe tbody tr th:only-of-type {\n",
       "        vertical-align: middle;\n",
       "    }\n",
       "\n",
       "    .dataframe tbody tr th {\n",
       "        vertical-align: top;\n",
       "    }\n",
       "\n",
       "    .dataframe thead th {\n",
       "        text-align: right;\n",
       "    }\n",
       "</style>\n",
       "<table border=\"1\" class=\"dataframe\">\n",
       "  <thead>\n",
       "    <tr style=\"text-align: right;\">\n",
       "      <th></th>\n",
       "      <th>Date</th>\n",
       "      <th>Product Name</th>\n",
       "      <th>Category</th>\n",
       "      <th>Units Sold</th>\n",
       "      <th>Price</th>\n",
       "      <th>Revenue</th>\n",
       "      <th>Discount</th>\n",
       "      <th>Units Returned</th>\n",
       "      <th>Location</th>\n",
       "      <th>Platform</th>\n",
       "    </tr>\n",
       "  </thead>\n",
       "  <tbody>\n",
       "    <tr>\n",
       "      <th>0</th>\n",
       "      <td>2020-01-06</td>\n",
       "      <td>Whey Protein</td>\n",
       "      <td>Protein</td>\n",
       "      <td>143</td>\n",
       "      <td>31.98</td>\n",
       "      <td>4573.14</td>\n",
       "      <td>0.03</td>\n",
       "      <td>2</td>\n",
       "      <td>Canada</td>\n",
       "      <td>Walmart</td>\n",
       "    </tr>\n",
       "    <tr>\n",
       "      <th>1</th>\n",
       "      <td>2020-01-06</td>\n",
       "      <td>Vitamin C</td>\n",
       "      <td>Vitamin</td>\n",
       "      <td>139</td>\n",
       "      <td>42.51</td>\n",
       "      <td>5908.89</td>\n",
       "      <td>0.04</td>\n",
       "      <td>0</td>\n",
       "      <td>UK</td>\n",
       "      <td>Amazon</td>\n",
       "    </tr>\n",
       "    <tr>\n",
       "      <th>2</th>\n",
       "      <td>2020-01-06</td>\n",
       "      <td>Fish Oil</td>\n",
       "      <td>Omega</td>\n",
       "      <td>161</td>\n",
       "      <td>12.91</td>\n",
       "      <td>2078.51</td>\n",
       "      <td>0.25</td>\n",
       "      <td>0</td>\n",
       "      <td>Canada</td>\n",
       "      <td>Amazon</td>\n",
       "    </tr>\n",
       "    <tr>\n",
       "      <th>3</th>\n",
       "      <td>2020-01-06</td>\n",
       "      <td>Multivitamin</td>\n",
       "      <td>Vitamin</td>\n",
       "      <td>140</td>\n",
       "      <td>16.07</td>\n",
       "      <td>2249.80</td>\n",
       "      <td>0.08</td>\n",
       "      <td>0</td>\n",
       "      <td>Canada</td>\n",
       "      <td>Walmart</td>\n",
       "    </tr>\n",
       "    <tr>\n",
       "      <th>4</th>\n",
       "      <td>2020-01-06</td>\n",
       "      <td>Pre-Workout</td>\n",
       "      <td>Performance</td>\n",
       "      <td>157</td>\n",
       "      <td>35.47</td>\n",
       "      <td>5568.79</td>\n",
       "      <td>0.25</td>\n",
       "      <td>3</td>\n",
       "      <td>Canada</td>\n",
       "      <td>iHerb</td>\n",
       "    </tr>\n",
       "  </tbody>\n",
       "</table>\n",
       "</div>"
      ],
      "text/plain": [
       "         Date  Product Name     Category  Units Sold  Price  Revenue  \\\n",
       "0  2020-01-06  Whey Protein      Protein         143  31.98  4573.14   \n",
       "1  2020-01-06     Vitamin C      Vitamin         139  42.51  5908.89   \n",
       "2  2020-01-06      Fish Oil        Omega         161  12.91  2078.51   \n",
       "3  2020-01-06  Multivitamin      Vitamin         140  16.07  2249.80   \n",
       "4  2020-01-06   Pre-Workout  Performance         157  35.47  5568.79   \n",
       "\n",
       "   Discount  Units Returned Location Platform  \n",
       "0      0.03               2   Canada  Walmart  \n",
       "1      0.04               0       UK   Amazon  \n",
       "2      0.25               0   Canada   Amazon  \n",
       "3      0.08               0   Canada  Walmart  \n",
       "4      0.25               3   Canada    iHerb  "
      ]
     },
     "execution_count": 3,
     "metadata": {},
     "output_type": "execute_result"
    }
   ],
   "source": [
    "import pandas as pd\n",
    "df = pd.read_csv(r\"C:\\Users\\opiej\\ThursdayNightProjects\\my_data_project\\data\\Supplement_Sales_Weekly_Expanded.csv\")\n",
    "print(df)\n",
    "df.head()"
   ]
  },
  {
   "cell_type": "code",
   "execution_count": 4,
   "id": "f805795c",
   "metadata": {},
   "outputs": [
    {
     "name": "stdout",
     "output_type": "stream",
     "text": [
      "(4384, 10)\n"
     ]
    }
   ],
   "source": [
    "print(df.shape)"
   ]
  },
  {
   "cell_type": "markdown",
   "id": "258c5596",
   "metadata": {},
   "source": []
  },
  {
   "cell_type": "code",
   "execution_count": 5,
   "id": "e9f0a003",
   "metadata": {},
   "outputs": [
    {
     "name": "stdout",
     "output_type": "stream",
     "text": [
      "<bound method DataFrame.info of             Date        Product Name     Category  Units Sold  Price  Revenue  \\\n",
      "0     2020-01-06        Whey Protein      Protein         143  31.98  4573.14   \n",
      "1     2020-01-06           Vitamin C      Vitamin         139  42.51  5908.89   \n",
      "2     2020-01-06            Fish Oil        Omega         161  12.91  2078.51   \n",
      "3     2020-01-06        Multivitamin      Vitamin         140  16.07  2249.80   \n",
      "4     2020-01-06         Pre-Workout  Performance         157  35.47  5568.79   \n",
      "...          ...                 ...          ...         ...    ...      ...   \n",
      "4379  2025-03-31           Melatonin    Sleep Aid         160  47.79  7646.40   \n",
      "4380  2025-03-31              Biotin      Vitamin         154  38.12  5870.48   \n",
      "4381  2025-03-31   Green Tea Extract   Fat Burner         139  20.40  2835.60   \n",
      "4382  2025-03-31     Iron Supplement      Mineral         154  18.31  2819.74   \n",
      "4383  2025-03-31  Electrolyte Powder    Hydration         178  39.12  6963.36   \n",
      "\n",
      "      Discount  Units Returned Location Platform  \n",
      "0         0.03               2   Canada  Walmart  \n",
      "1         0.04               0       UK   Amazon  \n",
      "2         0.25               0   Canada   Amazon  \n",
      "3         0.08               0   Canada  Walmart  \n",
      "4         0.25               3   Canada    iHerb  \n",
      "...        ...             ...      ...      ...  \n",
      "4379      0.21               1      USA    iHerb  \n",
      "4380      0.22               1       UK  Walmart  \n",
      "4381      0.12               3      USA    iHerb  \n",
      "4382      0.23               2   Canada   Amazon  \n",
      "4383      0.23               0       UK    iHerb  \n",
      "\n",
      "[4384 rows x 10 columns]>\n"
     ]
    }
   ],
   "source": [
    "print(df.info)"
   ]
  },
  {
   "cell_type": "code",
   "execution_count": 6,
   "id": "fa613986",
   "metadata": {},
   "outputs": [
    {
     "name": "stdout",
     "output_type": "stream",
     "text": [
      "<bound method NDFrame.describe of             Date        Product Name     Category  Units Sold  Price  Revenue  \\\n",
      "0     2020-01-06        Whey Protein      Protein         143  31.98  4573.14   \n",
      "1     2020-01-06           Vitamin C      Vitamin         139  42.51  5908.89   \n",
      "2     2020-01-06            Fish Oil        Omega         161  12.91  2078.51   \n",
      "3     2020-01-06        Multivitamin      Vitamin         140  16.07  2249.80   \n",
      "4     2020-01-06         Pre-Workout  Performance         157  35.47  5568.79   \n",
      "...          ...                 ...          ...         ...    ...      ...   \n",
      "4379  2025-03-31           Melatonin    Sleep Aid         160  47.79  7646.40   \n",
      "4380  2025-03-31              Biotin      Vitamin         154  38.12  5870.48   \n",
      "4381  2025-03-31   Green Tea Extract   Fat Burner         139  20.40  2835.60   \n",
      "4382  2025-03-31     Iron Supplement      Mineral         154  18.31  2819.74   \n",
      "4383  2025-03-31  Electrolyte Powder    Hydration         178  39.12  6963.36   \n",
      "\n",
      "      Discount  Units Returned Location Platform  \n",
      "0         0.03               2   Canada  Walmart  \n",
      "1         0.04               0       UK   Amazon  \n",
      "2         0.25               0   Canada   Amazon  \n",
      "3         0.08               0   Canada  Walmart  \n",
      "4         0.25               3   Canada    iHerb  \n",
      "...        ...             ...      ...      ...  \n",
      "4379      0.21               1      USA    iHerb  \n",
      "4380      0.22               1       UK  Walmart  \n",
      "4381      0.12               3      USA    iHerb  \n",
      "4382      0.23               2   Canada   Amazon  \n",
      "4383      0.23               0       UK    iHerb  \n",
      "\n",
      "[4384 rows x 10 columns]>\n"
     ]
    }
   ],
   "source": [
    "print(df.describe)"
   ]
  },
  {
   "cell_type": "code",
   "execution_count": 7,
   "id": "a6a6950a",
   "metadata": {},
   "outputs": [
    {
     "name": "stdout",
     "output_type": "stream",
     "text": [
      "            Date        Product Name     Category  Units Sold  Price  Revenue  \\\n",
      "0     2020-01-06        Whey Protein      Protein         143  31.98  4573.14   \n",
      "1     2020-01-06           Vitamin C      Vitamin         139  42.51  5908.89   \n",
      "2     2020-01-06            Fish Oil        Omega         161  12.91  2078.51   \n",
      "3     2020-01-06        Multivitamin      Vitamin         140  16.07  2249.80   \n",
      "4     2020-01-06         Pre-Workout  Performance         157  35.47  5568.79   \n",
      "...          ...                 ...          ...         ...    ...      ...   \n",
      "4379  2025-03-31           Melatonin    Sleep Aid         160  47.79  7646.40   \n",
      "4380  2025-03-31              Biotin      Vitamin         154  38.12  5870.48   \n",
      "4381  2025-03-31   Green Tea Extract   Fat Burner         139  20.40  2835.60   \n",
      "4382  2025-03-31     Iron Supplement      Mineral         154  18.31  2819.74   \n",
      "4383  2025-03-31  Electrolyte Powder    Hydration         178  39.12  6963.36   \n",
      "\n",
      "      Discount  Units Returned Location Platform  \n",
      "0         0.03               2   Canada  Walmart  \n",
      "1         0.04               0       UK   Amazon  \n",
      "2         0.25               0   Canada   Amazon  \n",
      "3         0.08               0   Canada  Walmart  \n",
      "4         0.25               3   Canada    iHerb  \n",
      "...        ...             ...      ...      ...  \n",
      "4379      0.21               1      USA    iHerb  \n",
      "4380      0.22               1       UK  Walmart  \n",
      "4381      0.12               3      USA    iHerb  \n",
      "4382      0.23               2   Canada   Amazon  \n",
      "4383      0.23               0       UK    iHerb  \n",
      "\n",
      "[4384 rows x 10 columns]\n"
     ]
    }
   ],
   "source": [
    "df = df.dropna()\n",
    "print(df)\n"
   ]
  },
  {
   "cell_type": "code",
   "execution_count": 28,
   "id": "34c9f67b",
   "metadata": {},
   "outputs": [
    {
     "data": {
      "application/vnd.microsoft.datawrangler.viewer.v0+json": {
       "columns": [
        {
         "name": "index",
         "rawType": "int64",
         "type": "integer"
        },
        {
         "name": "Product Name",
         "rawType": "object",
         "type": "string"
        },
        {
         "name": "Units Sold",
         "rawType": "int64",
         "type": "integer"
        }
       ],
       "conversionMethod": "pd.DataFrame",
       "ref": "946e94db-3317-4fa8-8a37-a25e504ca59a",
       "rows": [
        [
         "2",
         "Biotin",
         "41533"
        ],
        [
         "0",
         "Ashwagandha",
         "41408"
        ],
        [
         "6",
         "Fish Oil",
         "41325"
        ],
        [
         "12",
         "Pre-Workout",
         "41287"
        ],
        [
         "9",
         "Magnesium",
         "41270"
        ],
        [
         "14",
         "Whey Protein",
         "41264"
        ],
        [
         "4",
         "Creatine",
         "41236"
        ],
        [
         "15",
         "Zinc",
         "41204"
        ],
        [
         "8",
         "Iron Supplement",
         "41194"
        ],
        [
         "11",
         "Multivitamin",
         "41174"
        ],
        [
         "10",
         "Melatonin",
         "41165"
        ],
        [
         "5",
         "Electrolyte Powder",
         "41065"
        ],
        [
         "1",
         "BCAA",
         "41027"
        ],
        [
         "3",
         "Collagen Peptides",
         "40856"
        ],
        [
         "7",
         "Green Tea Extract",
         "40743"
        ],
        [
         "13",
         "Vitamin C",
         "40727"
        ]
       ],
       "shape": {
        "columns": 2,
        "rows": 16
       }
      },
      "text/html": [
       "<div>\n",
       "<style scoped>\n",
       "    .dataframe tbody tr th:only-of-type {\n",
       "        vertical-align: middle;\n",
       "    }\n",
       "\n",
       "    .dataframe tbody tr th {\n",
       "        vertical-align: top;\n",
       "    }\n",
       "\n",
       "    .dataframe thead th {\n",
       "        text-align: right;\n",
       "    }\n",
       "</style>\n",
       "<table border=\"1\" class=\"dataframe\">\n",
       "  <thead>\n",
       "    <tr style=\"text-align: right;\">\n",
       "      <th></th>\n",
       "      <th>Product Name</th>\n",
       "      <th>Units Sold</th>\n",
       "    </tr>\n",
       "  </thead>\n",
       "  <tbody>\n",
       "    <tr>\n",
       "      <th>2</th>\n",
       "      <td>Biotin</td>\n",
       "      <td>41533</td>\n",
       "    </tr>\n",
       "    <tr>\n",
       "      <th>0</th>\n",
       "      <td>Ashwagandha</td>\n",
       "      <td>41408</td>\n",
       "    </tr>\n",
       "    <tr>\n",
       "      <th>6</th>\n",
       "      <td>Fish Oil</td>\n",
       "      <td>41325</td>\n",
       "    </tr>\n",
       "    <tr>\n",
       "      <th>12</th>\n",
       "      <td>Pre-Workout</td>\n",
       "      <td>41287</td>\n",
       "    </tr>\n",
       "    <tr>\n",
       "      <th>9</th>\n",
       "      <td>Magnesium</td>\n",
       "      <td>41270</td>\n",
       "    </tr>\n",
       "    <tr>\n",
       "      <th>14</th>\n",
       "      <td>Whey Protein</td>\n",
       "      <td>41264</td>\n",
       "    </tr>\n",
       "    <tr>\n",
       "      <th>4</th>\n",
       "      <td>Creatine</td>\n",
       "      <td>41236</td>\n",
       "    </tr>\n",
       "    <tr>\n",
       "      <th>15</th>\n",
       "      <td>Zinc</td>\n",
       "      <td>41204</td>\n",
       "    </tr>\n",
       "    <tr>\n",
       "      <th>8</th>\n",
       "      <td>Iron Supplement</td>\n",
       "      <td>41194</td>\n",
       "    </tr>\n",
       "    <tr>\n",
       "      <th>11</th>\n",
       "      <td>Multivitamin</td>\n",
       "      <td>41174</td>\n",
       "    </tr>\n",
       "    <tr>\n",
       "      <th>10</th>\n",
       "      <td>Melatonin</td>\n",
       "      <td>41165</td>\n",
       "    </tr>\n",
       "    <tr>\n",
       "      <th>5</th>\n",
       "      <td>Electrolyte Powder</td>\n",
       "      <td>41065</td>\n",
       "    </tr>\n",
       "    <tr>\n",
       "      <th>1</th>\n",
       "      <td>BCAA</td>\n",
       "      <td>41027</td>\n",
       "    </tr>\n",
       "    <tr>\n",
       "      <th>3</th>\n",
       "      <td>Collagen Peptides</td>\n",
       "      <td>40856</td>\n",
       "    </tr>\n",
       "    <tr>\n",
       "      <th>7</th>\n",
       "      <td>Green Tea Extract</td>\n",
       "      <td>40743</td>\n",
       "    </tr>\n",
       "    <tr>\n",
       "      <th>13</th>\n",
       "      <td>Vitamin C</td>\n",
       "      <td>40727</td>\n",
       "    </tr>\n",
       "  </tbody>\n",
       "</table>\n",
       "</div>"
      ],
      "text/plain": [
       "          Product Name  Units Sold\n",
       "2               Biotin       41533\n",
       "0          Ashwagandha       41408\n",
       "6             Fish Oil       41325\n",
       "12         Pre-Workout       41287\n",
       "9            Magnesium       41270\n",
       "14        Whey Protein       41264\n",
       "4             Creatine       41236\n",
       "15                Zinc       41204\n",
       "8      Iron Supplement       41194\n",
       "11        Multivitamin       41174\n",
       "10           Melatonin       41165\n",
       "5   Electrolyte Powder       41065\n",
       "1                 BCAA       41027\n",
       "3    Collagen Peptides       40856\n",
       "7    Green Tea Extract       40743\n",
       "13           Vitamin C       40727"
      ]
     },
     "execution_count": 28,
     "metadata": {},
     "output_type": "execute_result"
    }
   ],
   "source": [
    "grouped_department = df.groupby('Product Name').agg({'Units Sold': 'sum'})\n",
    "grouped_department = grouped_department.reset_index()\n",
    "grouped_department = grouped_department.sort_values('Units Sold', ascending=False)\n",
    "grouped_department"
   ]
  },
  {
   "cell_type": "code",
   "execution_count": 22,
   "id": "cd1515cd",
   "metadata": {},
   "outputs": [
    {
     "data": {
      "image/png": "[encoded data removed]",
      "text/plain": [
       "<Figure size 640x480 with 1 Axes>"
      ]
     },
     "metadata": {},
     "output_type": "display_data"
    }
   ],
   "source": [
    "import pandas as pd\n",
    "import numpy as np\n",
    "import matplotlib.pyplot as plt\n",
    "import plotly.graph_objects as go\n",
    "grouped_department.plot(kind=\"bar\", y='Units Sold', x='Product Name');"
   ]
  },
  {
   "cell_type": "code",
   "execution_count": 29,
   "id": "4ae4f998",
   "metadata": {},
   "outputs": [
    {
     "data": {
      "image/png": "[encoded data removed]",
      "text/plain": [
       "<Figure size 640x480 with 1 Axes>"
      ]
     },
     "metadata": {},
     "output_type": "display_data"
    }
   ],
   "source": [
    "location_sales = df.groupby('Location')['Units Sold'].sum()\n",
    "plt.pie(location_sales, labels=location_sales.index, autopct='%1.1f%%', startangle=140)\n",
    "plt.title('Units Sold by Country')\n",
    "plt.show()"
   ]
  },
  {
   "cell_type": "code",
   "execution_count": 36,
   "id": "c7696fe7",
   "metadata": {},
   "outputs": [
    {
     "data": {
      "image/png": "[encoded data removed]",
      "text/plain": [
       "<Figure size 1000x600 with 1 Axes>"
      ]
     },
     "metadata": {},
     "output_type": "display_data"
    }
   ],
   "source": [
    "df_grouped = df.groupby(['Location', 'Product Name'])['Units Sold'].sum().unstack()\n",
    "df_grouped.plot(kind='bar', figsize=(10, 6))\n",
    "plt.title('Units Sold per Product and Location')\n",
    "plt.xlabel('Location')\n",
    "plt.ylabel('Units Sold')\n",
    "plt.xticks(rotation=0)\n",
    "plt.legend(title='Product Name')\n",
    "plt.show()"
   ]
  },
  {
   "cell_type": "code",
   "execution_count": 38,
   "id": "1472f56e",
   "metadata": {},
   "outputs": [
    {
     "name": "stdout",
     "output_type": "stream",
     "text": [
      "            Date        Product Name     Category  Units Sold  Price  Revenue  \\\n",
      "0     2020-01-06        Whey Protein      Protein         143  31.98  4573.14   \n",
      "1     2020-01-06           Vitamin C      Vitamin         139  42.51  5908.89   \n",
      "2     2020-01-06            Fish Oil        Omega         161  12.91  2078.51   \n",
      "3     2020-01-06        Multivitamin      Vitamin         140  16.07  2249.80   \n",
      "4     2020-01-06         Pre-Workout  Performance         157  35.47  5568.79   \n",
      "...          ...                 ...          ...         ...    ...      ...   \n",
      "4379  2025-03-31           Melatonin    Sleep Aid         160  47.79  7646.40   \n",
      "4380  2025-03-31              Biotin      Vitamin         154  38.12  5870.48   \n",
      "4381  2025-03-31   Green Tea Extract   Fat Burner         139  20.40  2835.60   \n",
      "4382  2025-03-31     Iron Supplement      Mineral         154  18.31  2819.74   \n",
      "4383  2025-03-31  Electrolyte Powder    Hydration         178  39.12  6963.36   \n",
      "\n",
      "      Discount  Units Returned Location Platform  \n",
      "0         0.03               2   Canada  Walmart  \n",
      "1         0.04               0       UK   Amazon  \n",
      "2         0.25               0   Canada   Amazon  \n",
      "3         0.08               0   Canada  Walmart  \n",
      "4         0.25               3   Canada    iHerb  \n",
      "...        ...             ...      ...      ...  \n",
      "4379      0.21               1      USA    iHerb  \n",
      "4380      0.22               1       UK  Walmart  \n",
      "4381      0.12               3      USA    iHerb  \n",
      "4382      0.23               2   Canada   Amazon  \n",
      "4383      0.23               0       UK    iHerb  \n",
      "\n",
      "[4384 rows x 10 columns]\n"
     ]
    },
    {
     "data": {
      "application/vnd.microsoft.datawrangler.viewer.v0+json": {
       "columns": [
        {
         "name": "index",
         "rawType": "int64",
         "type": "integer"
        },
        {
         "name": "Date",
         "rawType": "object",
         "type": "string"
        },
        {
         "name": "Product Name",
         "rawType": "object",
         "type": "string"
        },
        {
         "name": "Category",
         "rawType": "object",
         "type": "string"
        },
        {
         "name": "Units Sold",
         "rawType": "int64",
         "type": "integer"
        },
        {
         "name": "Price",
         "rawType": "float64",
         "type": "float"
        },
        {
         "name": "Revenue",
         "rawType": "float64",
         "type": "float"
        },
        {
         "name": "Discount",
         "rawType": "float64",
         "type": "float"
        },
        {
         "name": "Units Returned",
         "rawType": "int64",
         "type": "integer"
        },
        {
         "name": "Location",
         "rawType": "object",
         "type": "string"
        },
        {
         "name": "Platform",
         "rawType": "object",
         "type": "string"
        }
       ],
       "conversionMethod": "pd.DataFrame",
       "ref": "2c50ea14-8aed-4152-855a-bc38f833a0d8",
       "rows": [
        [
         "0",
         "2020-01-06",
         "Whey Protein",
         "Protein",
         "143",
         "31.98",
         "4573.14",
         "0.03",
         "2",
         "Canada",
         "Walmart"
        ],
        [
         "1",
         "2020-01-06",
         "Vitamin C",
         "Vitamin",
         "139",
         "42.51",
         "5908.89",
         "0.04",
         "0",
         "UK",
         "Amazon"
        ],
        [
         "2",
         "2020-01-06",
         "Fish Oil",
         "Omega",
         "161",
         "12.91",
         "2078.51",
         "0.25",
         "0",
         "Canada",
         "Amazon"
        ],
        [
         "3",
         "2020-01-06",
         "Multivitamin",
         "Vitamin",
         "140",
         "16.07",
         "2249.8",
         "0.08",
         "0",
         "Canada",
         "Walmart"
        ],
        [
         "4",
         "2020-01-06",
         "Pre-Workout",
         "Performance",
         "157",
         "35.47",
         "5568.79",
         "0.25",
         "3",
         "Canada",
         "iHerb"
        ]
       ],
       "shape": {
        "columns": 10,
        "rows": 5
       }
      },
      "text/html": [
       "<div>\n",
       "<style scoped>\n",
       "    .dataframe tbody tr th:only-of-type {\n",
       "        vertical-align: middle;\n",
       "    }\n",
       "\n",
       "    .dataframe tbody tr th {\n",
       "        vertical-align: top;\n",
       "    }\n",
       "\n",
       "    .dataframe thead th {\n",
       "        text-align: right;\n",
       "    }\n",
       "</style>\n",
       "<table border=\"1\" class=\"dataframe\">\n",
       "  <thead>\n",
       "    <tr style=\"text-align: right;\">\n",
       "      <th></th>\n",
       "      <th>Date</th>\n",
       "      <th>Product Name</th>\n",
       "      <th>Category</th>\n",
       "      <th>Units Sold</th>\n",
       "      <th>Price</th>\n",
       "      <th>Revenue</th>\n",
       "      <th>Discount</th>\n",
       "      <th>Units Returned</th>\n",
       "      <th>Location</th>\n",
       "      <th>Platform</th>\n",
       "    </tr>\n",
       "  </thead>\n",
       "  <tbody>\n",
       "    <tr>\n",
       "      <th>0</th>\n",
       "      <td>2020-01-06</td>\n",
       "      <td>Whey Protein</td>\n",
       "      <td>Protein</td>\n",
       "      <td>143</td>\n",
       "      <td>31.98</td>\n",
       "      <td>4573.14</td>\n",
       "      <td>0.03</td>\n",
       "      <td>2</td>\n",
       "      <td>Canada</td>\n",
       "      <td>Walmart</td>\n",
       "    </tr>\n",
       "    <tr>\n",
       "      <th>1</th>\n",
       "      <td>2020-01-06</td>\n",
       "      <td>Vitamin C</td>\n",
       "      <td>Vitamin</td>\n",
       "      <td>139</td>\n",
       "      <td>42.51</td>\n",
       "      <td>5908.89</td>\n",
       "      <td>0.04</td>\n",
       "      <td>0</td>\n",
       "      <td>UK</td>\n",
       "      <td>Amazon</td>\n",
       "    </tr>\n",
       "    <tr>\n",
       "      <th>2</th>\n",
       "      <td>2020-01-06</td>\n",
       "      <td>Fish Oil</td>\n",
       "      <td>Omega</td>\n",
       "      <td>161</td>\n",
       "      <td>12.91</td>\n",
       "      <td>2078.51</td>\n",
       "      <td>0.25</td>\n",
       "      <td>0</td>\n",
       "      <td>Canada</td>\n",
       "      <td>Amazon</td>\n",
       "    </tr>\n",
       "    <tr>\n",
       "      <th>3</th>\n",
       "      <td>2020-01-06</td>\n",
       "      <td>Multivitamin</td>\n",
       "      <td>Vitamin</td>\n",
       "      <td>140</td>\n",
       "      <td>16.07</td>\n",
       "      <td>2249.80</td>\n",
       "      <td>0.08</td>\n",
       "      <td>0</td>\n",
       "      <td>Canada</td>\n",
       "      <td>Walmart</td>\n",
       "    </tr>\n",
       "    <tr>\n",
       "      <th>4</th>\n",
       "      <td>2020-01-06</td>\n",
       "      <td>Pre-Workout</td>\n",
       "      <td>Performance</td>\n",
       "      <td>157</td>\n",
       "      <td>35.47</td>\n",
       "      <td>5568.79</td>\n",
       "      <td>0.25</td>\n",
       "      <td>3</td>\n",
       "      <td>Canada</td>\n",
       "      <td>iHerb</td>\n",
       "    </tr>\n",
       "  </tbody>\n",
       "</table>\n",
       "</div>"
      ],
      "text/plain": [
       "         Date  Product Name     Category  Units Sold  Price  Revenue  \\\n",
       "0  2020-01-06  Whey Protein      Protein         143  31.98  4573.14   \n",
       "1  2020-01-06     Vitamin C      Vitamin         139  42.51  5908.89   \n",
       "2  2020-01-06      Fish Oil        Omega         161  12.91  2078.51   \n",
       "3  2020-01-06  Multivitamin      Vitamin         140  16.07  2249.80   \n",
       "4  2020-01-06   Pre-Workout  Performance         157  35.47  5568.79   \n",
       "\n",
       "   Discount  Units Returned Location Platform  \n",
       "0      0.03               2   Canada  Walmart  \n",
       "1      0.04               0       UK   Amazon  \n",
       "2      0.25               0   Canada   Amazon  \n",
       "3      0.08               0   Canada  Walmart  \n",
       "4      0.25               3   Canada    iHerb  "
      ]
     },
     "execution_count": 38,
     "metadata": {},
     "output_type": "execute_result"
    }
   ],
   "source": [
    "import pandas as pd\n",
    "df = pd.read_csv(r\"C:\\Users\\opiej\\ThursdayNightProjects\\my_data_project\\data\\Supplement_Sales_Weekly_Expanded.csv\")\n",
    "print(df)\n",
    "df.head(5)"
   ]
  },
  {
   "cell_type": "code",
   "execution_count": 46,
   "id": "2e719442",
   "metadata": {},
   "outputs": [
    {
     "data": {
      "image/png": "[encoded data removed]",
      "text/plain": [
       "<Figure size 800x400 with 1 Axes>"
      ]
     },
     "metadata": {},
     "output_type": "display_data"
    }
   ],
   "source": [
    "df_grouped = df.groupby(['Location', 'Product Name'])['Units Sold'].sum().unstack()\n",
    "df_grouped.plot(kind='bar', figsize=(8, 4),colormap='hsv')\n",
    "plt.title('Units Sold per Product and Location')\n",
    "plt.xlabel('Location')\n",
    "plt.ylabel('Units Sold')\n",
    "plt.xticks(rotation=0)\n",
    "plt.legend(title='Product Name')\n",
    "plt.legend(loc='upper center', bbox_to_anchor=(0.5, -0.15), ncol=2)\n",
    "plt.show()"
   ]
  },
  {
   "cell_type": "code",
   "execution_count": null,
   "id": "129aaa6a",
   "metadata": {},
   "outputs": [],
   "source": []
  }
 ],
 "metadata": {
  "kernelspec": {
   "display_name": "Python 3",
   "language": "python",
   "name": "python3"
  },
  "language_info": {
   "codemirror_mode": {
    "name": "ipython",
    "version": 3
   },
   "file_extension": ".py",
   "mimetype": "text/x-python",
   "name": "python",
   "nbconvert_exporter": "python",
   "pygments_lexer": "ipython3",
   "version": "3.13.1"
  }
 },
 "nbformat": 4,
 "nbformat_minor": 5
}
